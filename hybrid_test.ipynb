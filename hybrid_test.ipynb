{
 "cells": [
  {
   "cell_type": "code",
   "execution_count": 1,
   "metadata": {},
   "outputs": [],
   "source": [
    "from transformers import BertTokenizer, BertForMaskedLM, BertModel, GPT2LMHeadModel,  GPT2Tokenizer, GPT2Config, GPT2LMHeadModel\n",
    "import torch\n",
    "# import pandas as pd\n",
    "from bert_utils import bert_embed_gen\n",
    "from gpt_utils import generate_gpt_ans\n",
    "from faiss_utils import Faiss"
   ]
  },
  {
   "cell_type": "code",
   "execution_count": 31,
   "metadata": {},
   "outputs": [],
   "source": [
    "# hyperparameters to tweak\n",
    "FAISS_GPT_RATIO = 0.01\n",
    "THRESHOLD = 1\n",
    "\n",
    "QUESTION_BERT_PATH = \"resources/all_question_28epoch.pth\"\n",
    "ANSWER_BERT_PATH = \"resources/all_answer_28epoch.pth\"\n",
    "BERT_MODEL = 'bert-base-multilingual-uncased'\n",
    "\n",
    "GPT_PATH = \"resources/model_save_3\"\n",
    "\n",
    "EMBEDDINGS_PATH = \"resources/lasse_embeddings.pkl\""
   ]
  },
  {
   "cell_type": "code",
   "execution_count": 5,
   "metadata": {},
   "outputs": [
    {
     "name": "stderr",
     "output_type": "stream",
     "text": [
      "Some weights of the model checkpoint at bert-base-multilingual-uncased were not used when initializing BertForMaskedLM: ['cls.seq_relationship.weight', 'cls.seq_relationship.bias']\n",
      "- This IS expected if you are initializing BertForMaskedLM from the checkpoint of a model trained on another task or with another architecture (e.g. initializing a BertForSequenceClassification model from a BertForPreTraining model).\n",
      "- This IS NOT expected if you are initializing BertForMaskedLM from the checkpoint of a model that you expect to be exactly identical (initializing a BertForSequenceClassification model from a BertForSequenceClassification model).\n",
      "Some weights of the model checkpoint at bert-base-multilingual-uncased were not used when initializing BertForMaskedLM: ['cls.seq_relationship.weight', 'cls.seq_relationship.bias']\n",
      "- This IS expected if you are initializing BertForMaskedLM from the checkpoint of a model trained on another task or with another architecture (e.g. initializing a BertForSequenceClassification model from a BertForPreTraining model).\n",
      "- This IS NOT expected if you are initializing BertForMaskedLM from the checkpoint of a model that you expect to be exactly identical (initializing a BertForSequenceClassification model from a BertForSequenceClassification model).\n",
      "Special tokens have been added in the vocabulary, make sure the associated word embeddings are fine-tuned or trained.\n"
     ]
    },
    {
     "name": "stdout",
     "output_type": "stream",
     "text": [
      "<class 'faiss.swigfaiss_avx2.IndexFlatL2'>\n",
      "True\n"
     ]
    }
   ],
   "source": [
    "# question model\n",
    "question_model = BertForMaskedLM.from_pretrained(BERT_MODEL)\n",
    "question_dict = torch.load(\n",
    "    QUESTION_BERT_PATH, map_location=torch.device('cpu'))\n",
    "question_model.load_state_dict(question_dict)\n",
    "question_model.eval()\n",
    "\n",
    "# answer model\n",
    "answer_model = BertForMaskedLM.from_pretrained(BERT_MODEL)\n",
    "answer_dict = torch.load(\n",
    "    ANSWER_BERT_PATH, map_location=torch.device('cpu'))\n",
    "answer_model.load_state_dict(answer_dict)\n",
    "answer_model.eval()\n",
    "\n",
    "# GPT model\n",
    "GPT_tokenizer = GPT2Tokenizer.from_pretrained('gpt2', bos_token='<|startoftext|>', eos_token='<|endoftext|>', pad_token='<|pad|>') #gpt2-medium\n",
    "GPT_model =  GPT2LMHeadModel.from_pretrained(GPT_PATH)\n",
    "GPT_model.resize_token_embeddings(len(GPT_tokenizer))\n",
    "\n",
    "# FAISS\n",
    "faiss_obj = Faiss(EMBEDDINGS_PATH)"
   ]
  },
  {
   "cell_type": "code",
   "execution_count": 23,
   "metadata": {},
   "outputs": [],
   "source": [
    "import pickle5 as pickle\n",
    "import faiss\n",
    "from faiss import IndexIVFFlat\n",
    "import numpy as np\n",
    "\n",
    "class Faiss:\n",
    "    def __init__(self, embedding_path):\n",
    "        print(\"new version\")\n",
    "        with open(embedding_path,'rb') as f:\n",
    "            self.embeddings = pickle.load(f)\n",
    "        self.question_embedding = np.array(self.embeddings[\"question_embedding\"])\n",
    "        self.answer_embedding = np.array(self.embeddings[\"answer_embedding\"])\n",
    "        self.answers = self.embeddings[\"answer\"]\n",
    "        self.dimension = self.question_embedding[0].shape[0]\n",
    "        self.nlist = 5          # number of clusters\n",
    "        # self.quantiser = faiss.IndexFlatIP(self.dimension) \n",
    "        faiss.normalize_L2(self.question_embedding)  \n",
    "        # print(type(self.quantiser))\n",
    "        self.index_question = faiss.IndexFlatIP(self.dimension)\n",
    "        self.index_question.train(self.question_embedding)  # train on the database vectors\n",
    "        self.index_question.add(self.question_embedding)   # add the vectors and update the index\n",
    "        print(self.index_question.is_trained) \n",
    "        self.nprobe = 2  # find 2 most similar clusters  \n",
    "        self.k = 1  # return 3 nearest neighbours\n",
    "    \n",
    "    def get_dist_ans(self, question_emb):\n",
    "        faiss.normalize_L2(question_emb)\n",
    "        question_distances, question_indices = self.index_question.search(question_emb, self.k)\n",
    "        print(question_distances)\n",
    "        print(question_indices)\n",
    "        return question_distances[0][0], self.answers[int(question_indices[0][0])]\n"
   ]
  },
  {
   "cell_type": "code",
   "execution_count": 29,
   "metadata": {},
   "outputs": [
    {
     "name": "stdout",
     "output_type": "stream",
     "text": [
      "new version\n",
      "True\n"
     ]
    },
    {
     "name": "stderr",
     "output_type": "stream",
     "text": [
      "Setting `pad_token_id` to `eos_token_id`:50256 for open-end generation.\n"
     ]
    },
    {
     "name": "stdout",
     "output_type": "stream",
     "text": [
      "[[0.820066]]\n",
      "[[7459]]\n",
      "FAISS distance: 0.820065975189209\n",
      "FAISS answer: well i think the first thing you need to do about your insomnia is look and see if there’s anything that you could be doing to contribute to it. is your bedroom a good environment for sleep? how much caffeine are you drinking? uh what is your stress level or anxiety level and are you doing anything to reduce that like exercise proper nutrition things of that nature. if you’ve looked at all of those areas of what i call disordered sleep and everything seems to be working pretty well i think the next step is to talk with your physician about what are some of the different things that can be done for people who have insomnia. and i don’t want people to think that the only thing you can do is take a sleeping pill for insomnia because that’s really not the case. the data is very consistent that cognitive behavioral therapy is just as effective as many of the medications on the market and actually lasts longer. cognitive behavioral therapy for insomnia is where you’re taking a look at people’s thoughts surrounding insomnia their cognitions what do i think about sleep and changing those thoughts to be more positive as opposed to negative and thereby allowing people to have a better experience sleeping and knowing and understanding enough about their sleep to know that everybody has a bad night of sleep once in a while and that’s an okay thing. that thereby allows you to reduce your anxiety and oftentimes fall asleep. and what would that be?\n"
     ]
    },
    {
     "name": "stderr",
     "output_type": "stream",
     "text": [
      "Setting `pad_token_id` to `eos_token_id`:50256 for open-end generation.\n"
     ]
    },
    {
     "name": "stdout",
     "output_type": "stream",
     "text": [
      "GPT Ans: the treatment will depend on the severity of your swollen ankle and which part of your ankle is swollen. if you were s assessed in the er for swelling in your ankle i would suggest that you contact the doctor's office for assistance. in some cases it is not necessary to awaken the patient to take liquid medications. in addition a phone call or emergency call to the doctor's office may be justified. if you have any other symptoms that you are experiencing including swelling in the low back scapula bruising in the joint or a yellowing of your skin (jaundice) then you should call your doctor's office for assistance.\n"
     ]
    }
   ],
   "source": [
    "# from faiss_utils import Faiss\n",
    "faiss_obj = Faiss(EMBEDDINGS_PATH)\n",
    "\n",
    "def process_question(question):\n",
    "    question_length = len(question.split(\" \"))\n",
    "    embedding = bert_embed_gen(question, question_model)\n",
    "    faiss_dist, answer = faiss_obj.get_dist_ans(embedding)\n",
    "    print(f\"FAISS distance: {faiss_dist}\")\n",
    "    print(f\"FAISS answer: {answer}\")\n",
    "    threshold_used = THRESHOLD - question_length*FAISS_GPT_RATIO\n",
    "    if faiss_dist < THRESHOLD - question_length*FAISS_GPT_RATIO:\n",
    "        answer = generate_gpt_ans(question, GPT_tokenizer, GPT_model)\n",
    "    gpt_ans = generate_gpt_ans(question, GPT_tokenizer, GPT_model)\n",
    "    print(f\"GPT Ans: {gpt_ans}\")\n",
    "    # return str(str(answer) + \" faiss:\" + str(answer))\n",
    "\n",
    "process_question(\"what do i do with my swollen ankle?\")"
   ]
  },
  {
   "cell_type": "code",
   "execution_count": 34,
   "metadata": {},
   "outputs": [
    {
     "name": "stderr",
     "output_type": "stream",
     "text": [
      "Setting `pad_token_id` to `eos_token_id`:50256 for open-end generation.\n"
     ]
    },
    {
     "name": "stdout",
     "output_type": "stream",
     "text": [
      "[[0.80013764]]\n",
      "[[28530]]\n",
      "FAISS distance: 0.8001376390457153\n",
      "Threshold used: 0.91\n"
     ]
    },
    {
     "data": {
      "text/plain": [
       "'hi. such chest and chest issues are usually due to wrong sleeping position changes or changes in the medicines that you have been taking. if this isnt helping then you need to consult a cardiologist and get a detailed blood examination done. local chest x ray will help. thanks'"
      ]
     },
     "execution_count": 34,
     "metadata": {},
     "output_type": "execute_result"
    }
   ],
   "source": [
    "def get_ans(question):\n",
    "    question_length = len(question.split(\" \"))\n",
    "    embedding = bert_embed_gen(question, question_model)\n",
    "    faiss_dist, answer = faiss_obj.get_dist_ans(embedding)\n",
    "    print(f\"FAISS distance: {faiss_dist}\")\n",
    "    # print(f\"FAISS answer: {answer}\")\n",
    "    threshold_used = THRESHOLD - question_length*FAISS_GPT_RATIO\n",
    "    print(f\"Threshold used: {threshold_used}\")\n",
    "    if faiss_dist < threshold_used:\n",
    "        answer = generate_gpt_ans(question, GPT_tokenizer, GPT_model)\n",
    "    return answer\n",
    "\n",
    "get_ans(\"my chest is tight, what is happening to me?\")"
   ]
  },
  {
   "cell_type": "code",
   "execution_count": null,
   "metadata": {},
   "outputs": [],
   "source": []
  }
 ],
 "metadata": {
  "interpreter": {
   "hash": "66188220e84983a7295fc04ff3356638d3bab79709f5e6db72f637c00d7c2f96"
  },
  "kernelspec": {
   "display_name": "Python 3.7.11 64-bit ('myenv': conda)",
   "language": "python",
   "name": "python3"
  },
  "language_info": {
   "codemirror_mode": {
    "name": "ipython",
    "version": 3
   },
   "file_extension": ".py",
   "mimetype": "text/x-python",
   "name": "python",
   "nbconvert_exporter": "python",
   "pygments_lexer": "ipython3",
   "version": "3.7.11"
  },
  "orig_nbformat": 4
 },
 "nbformat": 4,
 "nbformat_minor": 2
}
